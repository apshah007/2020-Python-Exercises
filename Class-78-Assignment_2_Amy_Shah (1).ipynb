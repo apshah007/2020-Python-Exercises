{
 "cells": [
  {
   "cell_type": "markdown",
   "metadata": {},
   "source": [
    "Amy Shah"
   ]
  },
  {
   "cell_type": "markdown",
   "metadata": {},
   "source": [
    "# Assignment #1:\n",
    "\n",
    "Write a program that takes as input from user a number and checks whether or not\n",
    "that number is a perfect cube. What should be the boundary condition for your iteration?\n",
    "\n",
    "Python can calculate cube roots using n ** (1/3). Note that the statement below gives the wrong answer since there can be rounding errors. You can use the code for square roots as a basis. Make sure to handle the cases of zero and one. Some of you might have forgotten about cube roots from algebra days, so remember that you can take cube roots of negative numbers too! Try to test those cases but I won't take off points if it's wrong."
   ]
  },
  {
   "cell_type": "code",
   "execution_count": 11,
   "metadata": {},
   "outputs": [
    {
     "ename": "SyntaxError",
     "evalue": "invalid syntax (<ipython-input-11-35cba664b78f>, line 6)",
     "output_type": "error",
     "traceback": [
      "\u001b[0;36m  File \u001b[0;32m\"<ipython-input-11-35cba664b78f>\"\u001b[0;36m, line \u001b[0;32m6\u001b[0m\n\u001b[0;31m    else:\u001b[0m\n\u001b[0m    ^\u001b[0m\n\u001b[0;31mSyntaxError\u001b[0m\u001b[0;31m:\u001b[0m invalid syntax\n"
     ]
    }
   ],
   "source": [
    "#Place your code here:\n",
    "num = int(input(\"Tell me a number. \"))\n",
    "# check if num is actually negative or positive \n",
    "# check if negative or positive because need to get the cubed root \n",
    "numcheck = (num ** (1/3))\n",
    "#check if perfect cube, if num check cube is equal to the cube \n",
    "if numcheck :\n",
    "    print(((numcheck) + \" is a cube root of \" + num)\n",
    "else:\n",
    "    print(\"That number is not a perfect cube\")\n"
   ]
  },
  {
   "cell_type": "code",
   "execution_count": 4,
   "metadata": {},
   "outputs": [
    {
     "data": {
      "text/plain": [
       "11"
      ]
     },
     "execution_count": 4,
     "metadata": {},
     "output_type": "execute_result"
    }
   ],
   "source": [
    "#Here's a place to play and check calculations. You can delete this cell when you're done by using the \n",
    "# \"Scissors\" icon on the toolbar above\n",
    "int(1728 ** (1/3))"
   ]
  },
  {
   "cell_type": "markdown",
   "metadata": {},
   "source": [
    "# Assignment #2:\n",
    "The listed assignment is to implement a sorting algorithm. This is a great exercise to learn how to write code and is an extremely common task for students. It would be great if everyone can do this on their own. However, some might struggle with it, so for this assigment feel free to use any code you find on-line. Just please cite the code with a comment like I've started with below:"
   ]
  },
  {
   "cell_type": "code",
   "execution_count": 18,
   "metadata": {},
   "outputs": [
    {
     "name": "stdout",
     "output_type": "stream",
     "text": [
      "[4, 5, 6, 7, 12, 23, 31, 32, 34, 34, 43, 45, 67, 78, 87, 90, 92]\n"
     ]
    }
   ],
   "source": [
    "#Amy Shah\n",
    "#My implementation of Bubble Sort \n",
    "#based on https://runestone.academy/runestone/books/published/pythonds/SortSearch/TheBubbleSort.html\n",
    "\n",
    "\n",
    "\n",
    "def bubbleSort(alist):\n",
    "    for passnum in range(len(alist)-1,0,-1):\n",
    "        for i in range(passnum):\n",
    "            if alist[i]>alist[i+1]:\n",
    "                temp = alist[i]\n",
    "                alist[i] = alist[i+1]\n",
    "                alist[i+1] = temp\n",
    "\n",
    "alist = [34,4,5,6,7,90,34,12,45,78,92,23,87,43,32,31,67]\n",
    "bubbleSort(alist)\n",
    "print(alist)\n"
   ]
  },
  {
   "cell_type": "code",
   "execution_count": 17,
   "metadata": {},
   "outputs": [
    {
     "name": "stdout",
     "output_type": "stream",
     "text": [
      "[4, 5, 6, 7, 12, 23, 31, 32, 34, 34, 43, 45, 67, 78, 87, 90, 92]\n"
     ]
    }
   ],
   "source": [
    "#workspace if you need it.\n",
    "\n",
    "def bubbleSort(alist):\n",
    "    for passnum in range(len(alist)-1,0,-1):\n",
    "        for i in range(passnum):\n",
    "            if alist[i]>alist[i+1]:\n",
    "                temp = alist[i]\n",
    "                alist[i] = alist[i+1]\n",
    "                alist[i+1] = temp\n",
    "\n",
    "alist = [34,4,5,6,7,90,34,12,45,78,92,23,87,43,32,31,67]\n",
    "bubbleSort(alist)\n",
    "print(alist)\n"
   ]
  },
  {
   "cell_type": "markdown",
   "metadata": {},
   "source": [
    "# Assignment #3:\n",
    "The code below takes a string and checks to see if it's a palindrome. Write a function that takes in the input string and removes the spaces, returning a string without spaces. Try it first on your own first but if you get stuck please look on-line (just cite your references).\n",
    "Python has many built-in methods for string manipulation, or write it with a for loop.\n",
    "Bonus points for removing punctuation and changing all text lower case.\n",
    "\n",
    "So Roosevelt's plan for connecting the Atlantic & Pacific oceans can be summed up as \"A Man, a plan, a canal, Panama.\" and this is a palindrome if written as amanaplanacanalpanama.\n"
   ]
  },
  {
   "cell_type": "code",
   "execution_count": null,
   "metadata": {},
   "outputs": [],
   "source": [
    "def removespaces(a):\n",
    "    # use string.replace to remove the white space \n",
    "    # remove punctuation re.sub()  to help replace the punctuation \n",
    "    #https://note.nkmk.me/en/python-str-replace-translate-re-sub/\n",
    "    # make lower case.  string.lower.   \n",
    "    #make a function \n",
    "    # take out all the spaces, punctuation and lower case in any order \n",
    "    \n",
    "    \n",
    "    \n",
    "    \n",
    "\n",
    "\n",
    "\n",
    "#Here's the base code, please modify as you see fit\n",
    "orig = input(\"Enter a string to check if it is a palindrome: \")\n",
    "removespaces(orig)\n",
    "\n",
    "#python lests us go through the string in reverse order with a slice\n",
    "if orig == orig[::-1]:\n",
    "    print(orig,\"sides reversed is\",orig[::-1], \"\\nso it is a palindrome.\")\n",
    "else:\n",
    "    print(orig, \"is not a palindrome.\")\n",
    "    \n",
    "    \n"
   ]
  },
  {
   "cell_type": "code",
   "execution_count": null,
   "metadata": {},
   "outputs": [],
   "source": [
    "#workspace if needed\n",
    "\n",
    "def removespaces:\n",
    "    # use string.replace to remove the white space \n",
    "    # remove punctuation re.sub()  to help replace the punctuation \n",
    "    #https://note.nkmk.me/en/python-str-replace-translate-re-sub/\n",
    "    # make lower case.  string.lower.   \n",
    "    #make a function \n",
    "    # take out all the spaces, punctuation and lower case in any order \n",
    "    "
   ]
  },
  {
   "cell_type": "markdown",
   "metadata": {},
   "source": [
    "# Assignment #4:\n",
    "\n",
    "Problem 1: Suppose we are trying to calculate the Fibonacci of the first 8 numbers, how many times do you think we will need to call fib(3). For this problem take a guess, and then run the code. As a hint, just print a message every time fib(3) is called. It's trickier but possible to do the count in code.\n",
    "\n",
    "Problem 2:\n",
    "Here's a fun asterisk string problem. Start with the string \" * \". Build the next string by taking the previous string with the following rule: If the current and previous cells are the same then put a blank, if the cells are different, then put an asterisk. If you reach the beginning or end of the string then assume those are both blanks. From this rule the first few lines are in the code section below. Note that there's a leading and trailing space to make the beginning and ending of the string easier to handle with code. Full credit will be given if there's an attempt. If you know the name of the pattern then put it in the comments.\n",
    " \n",
    "\n",
    "Problem 3: (Extra) try to do a recursive implementation of a binary search tree.\n"
   ]
  },
  {
   "cell_type": "code",
   "execution_count": 20,
   "metadata": {},
   "outputs": [],
   "source": [
    "#Fibonacci Problem\n",
    "\n"
   ]
  },
  {
   "cell_type": "code",
   "execution_count": 22,
   "metadata": {},
   "outputs": [
    {
     "name": "stdout",
     "output_type": "stream",
     "text": [
      "How many terms? 8\n",
      "Fibonacci sequence:\n",
      "0\n",
      "1\n",
      "1\n",
      "2\n",
      "3\n",
      "5\n",
      "8\n",
      "13\n"
     ]
    }
   ],
   "source": [
    "# workspace \n",
    "# example code from https://www.programiz.com/python-programming/examples/fibonacci-sequence\n",
    "\n",
    "\n",
    "\n",
    "nterms = int(input(\"How many terms? \"))\n",
    "\n",
    "# first two terms\n",
    "n1, n2 = 0, 1\n",
    "count = 0\n",
    "\n",
    "# check if the number of terms is valid\n",
    "if nterms <= 0:\n",
    "   print(\"Please enter a positive integer\")\n",
    "elif nterms == 1:\n",
    "   print(\"Fibonacci sequence upto\",nterms,\":\")\n",
    "   print(n1)\n",
    "else:\n",
    "   print(\"Fibonacci sequence:\")\n",
    "   while count < nterms:\n",
    "       print(n1)\n",
    "       nth = n1 + n2\n",
    "       # update values\n",
    "       n1 = n2\n",
    "       n2 = nth\n",
    "       count += 1"
   ]
  },
  {
   "cell_type": "code",
   "execution_count": 18,
   "metadata": {},
   "outputs": [
    {
     "name": "stdout",
     "output_type": "stream",
     "text": [
      "How many terms? 10\n",
      "Fibonacci sequence:\n",
      "\n",
      " \n",
      "*\n",
      "**\n",
      "***\n",
      "*****\n",
      "********\n",
      "*************\n",
      "*********************\n",
      "**********************************\n"
     ]
    }
   ],
   "source": [
    "\"\"\"\n",
    "Here's the first few lines to get you started, try running for 50-100 lines:\n",
    " *\n",
    " **\n",
    " * *\n",
    " ****\n",
    " *   *\n",
    " **  **\n",
    " * * * *\n",
    " ********\n",
    "\"\"\"\n",
    "\n",
    "\n",
    "nterms = int(input(\"How many terms? \"))\n",
    "\n",
    "# first two terms\n",
    "n1, n2 = 0, 1\n",
    "count = 0\n",
    "\n",
    "# check if the number of terms is valid\n",
    "if nterms <= 0:\n",
    "   print(\"Please enter a positive integer\")\n",
    "elif nterms == 1:\n",
    "   print(\"Fibonacci sequence upto\",nterms,\":\")\n",
    "   print(n1)\n",
    "else:\n",
    "   print(\"Fibonacci sequence:\")\n",
    "   while count < nterms:\n",
    "    if n1 == n2:\n",
    "        print(\" \")\n",
    "    else: \n",
    "        print(\"*\" * n1)\n",
    "        \n",
    "        \n",
    "        \n",
    "  #  if n1 != n2:\n",
    "  #     print(\"*\"*n1)\n",
    "  #  else:\n",
    "  #     print(\" \")\n",
    "    nth = n1 + n2\n",
    "       # update values\n",
    "    n1 = n2\n",
    "    n2 = nth\n",
    "    count += 1\n",
    "\n",
    "\n",
    "\n"
   ]
  },
  {
   "cell_type": "code",
   "execution_count": 13,
   "metadata": {},
   "outputs": [],
   "source": [
    "#Binary Search Problem"
   ]
  },
  {
   "cell_type": "code",
   "execution_count": null,
   "metadata": {},
   "outputs": [],
   "source": []
  },
  {
   "cell_type": "code",
   "execution_count": null,
   "metadata": {},
   "outputs": [],
   "source": []
  }
 ],
 "metadata": {
  "kernelspec": {
   "display_name": "Python 3",
   "language": "python",
   "name": "python3"
  },
  "language_info": {
   "codemirror_mode": {
    "name": "ipython",
    "version": 3
   },
   "file_extension": ".py",
   "mimetype": "text/x-python",
   "name": "python",
   "nbconvert_exporter": "python",
   "pygments_lexer": "ipython3",
   "version": "3.8.5"
  }
 },
 "nbformat": 4,
 "nbformat_minor": 2
}
