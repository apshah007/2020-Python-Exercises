{
 "cells": [
  {
   "cell_type": "code",
   "execution_count": 1,
   "metadata": {},
   "outputs": [],
   "source": [
    "import pandas as pd\n",
    "import numpy as np\n",
    "import seaborn as sns\n",
    "import matplotlib.pyplot as plt\n",
    "\n",
    "from sklearn.linear_model import LogisticRegression\n",
    "#from sklearn.externals import joblib"
   ]
  },
  {
   "cell_type": "code",
   "execution_count": 3,
   "metadata": {
    "scrolled": false
   },
   "outputs": [
    {
     "data": {
      "text/html": [
       "<div>\n",
       "<style scoped>\n",
       "    .dataframe tbody tr th:only-of-type {\n",
       "        vertical-align: middle;\n",
       "    }\n",
       "\n",
       "    .dataframe tbody tr th {\n",
       "        vertical-align: top;\n",
       "    }\n",
       "\n",
       "    .dataframe thead th {\n",
       "        text-align: right;\n",
       "    }\n",
       "</style>\n",
       "<table border=\"1\" class=\"dataframe\">\n",
       "  <thead>\n",
       "    <tr style=\"text-align: right;\">\n",
       "      <th></th>\n",
       "      <th>Pregnancies</th>\n",
       "      <th>Glucose</th>\n",
       "      <th>BloodPressure</th>\n",
       "      <th>SkinThickness</th>\n",
       "      <th>Insulin</th>\n",
       "      <th>BMI</th>\n",
       "      <th>DPF</th>\n",
       "      <th>Age</th>\n",
       "      <th>Diabetes</th>\n",
       "    </tr>\n",
       "  </thead>\n",
       "  <tbody>\n",
       "    <tr>\n",
       "      <th>0</th>\n",
       "      <td>6</td>\n",
       "      <td>148</td>\n",
       "      <td>72</td>\n",
       "      <td>35</td>\n",
       "      <td>0</td>\n",
       "      <td>33.6</td>\n",
       "      <td>0.627</td>\n",
       "      <td>50</td>\n",
       "      <td>1</td>\n",
       "    </tr>\n",
       "    <tr>\n",
       "      <th>1</th>\n",
       "      <td>1</td>\n",
       "      <td>85</td>\n",
       "      <td>66</td>\n",
       "      <td>29</td>\n",
       "      <td>0</td>\n",
       "      <td>26.6</td>\n",
       "      <td>0.351</td>\n",
       "      <td>31</td>\n",
       "      <td>0</td>\n",
       "    </tr>\n",
       "    <tr>\n",
       "      <th>2</th>\n",
       "      <td>8</td>\n",
       "      <td>183</td>\n",
       "      <td>64</td>\n",
       "      <td>0</td>\n",
       "      <td>0</td>\n",
       "      <td>23.3</td>\n",
       "      <td>0.672</td>\n",
       "      <td>32</td>\n",
       "      <td>1</td>\n",
       "    </tr>\n",
       "    <tr>\n",
       "      <th>3</th>\n",
       "      <td>1</td>\n",
       "      <td>89</td>\n",
       "      <td>66</td>\n",
       "      <td>23</td>\n",
       "      <td>94</td>\n",
       "      <td>28.1</td>\n",
       "      <td>0.167</td>\n",
       "      <td>21</td>\n",
       "      <td>0</td>\n",
       "    </tr>\n",
       "    <tr>\n",
       "      <th>4</th>\n",
       "      <td>0</td>\n",
       "      <td>137</td>\n",
       "      <td>40</td>\n",
       "      <td>35</td>\n",
       "      <td>168</td>\n",
       "      <td>43.1</td>\n",
       "      <td>2.288</td>\n",
       "      <td>33</td>\n",
       "      <td>1</td>\n",
       "    </tr>\n",
       "  </tbody>\n",
       "</table>\n",
       "</div>"
      ],
      "text/plain": [
       "   Pregnancies  Glucose  BloodPressure  SkinThickness  Insulin   BMI    DPF  \\\n",
       "0            6      148             72             35        0  33.6  0.627   \n",
       "1            1       85             66             29        0  26.6  0.351   \n",
       "2            8      183             64              0        0  23.3  0.672   \n",
       "3            1       89             66             23       94  28.1  0.167   \n",
       "4            0      137             40             35      168  43.1  2.288   \n",
       "\n",
       "   Age  Diabetes  \n",
       "0   50         1  \n",
       "1   31         0  \n",
       "2   32         1  \n",
       "3   21         0  \n",
       "4   33         1  "
      ]
     },
     "execution_count": 3,
     "metadata": {},
     "output_type": "execute_result"
    }
   ],
   "source": [
    "pimas = pd.read_csv('Desktop/PimasDiabetes.csv')\n",
    "pimas.head()"
   ]
  },
  {
   "cell_type": "code",
   "execution_count": 4,
   "metadata": {
    "scrolled": true
   },
   "outputs": [
    {
     "name": "stdout",
     "output_type": "stream",
     "text": [
      "21 60   1752.5 29.2\n",
      "22 70   2124.7 30.4\n",
      "23 38   1197.1 31.5\n",
      "24 45   1498.2 33.3\n",
      "25 47   1533.3 32.6\n",
      "26 32   1152.2 36.0\n",
      "27 32   1022.4 31.9\n",
      "28 35   1177.5 33.6\n",
      "29 29    972.7 33.5\n",
      "30 20    630.7 31.5\n",
      "31 24    816.4 34.0\n",
      "32 16    517.1 32.3\n",
      "33 17    549.7 32.3\n",
      "34 14    436.3 31.2\n",
      "35 10    337.8 33.8\n",
      "36 16    507.5 31.7\n",
      "37 19    609.5 32.1\n",
      "38 16    569.1 35.6\n",
      "39 12    383.8 32.0\n",
      "40 13    436.0 33.5\n",
      "41 22    775.7 35.3\n",
      "42 18    629.7 35.0\n",
      "43 13    479.6 36.9\n",
      "44  8    273.3 34.2\n",
      "45 15    524.4 35.0\n",
      "46 13    448.8 34.5\n",
      "47  6    207.4 34.6\n",
      "48  5    149.9 30.0\n",
      "49  5    160.1 32.0\n",
      "50  8    249.8 31.2\n",
      "51  8    271.8 34.0\n",
      "52  8    267.8 33.5\n",
      "53  5    152.5 30.5\n",
      "54  5    184.8 37.0\n",
      "55  4    108.1 27.0\n",
      "56  3     95.1 31.7\n",
      "57  5    148.5 29.7\n",
      "58  7    227.0 32.4\n",
      "59  3     80.9 27.0\n",
      "60  5    143.7 28.7\n",
      "61  2     60.0 30.0\n",
      "62  4    115.8 29.0\n",
      "63  4    123.1 30.8\n",
      "64  1     25.0 25.0\n",
      "65  3     94.8 31.6\n",
      "66  4    121.5 30.4\n",
      "67  3     86.3 28.8\n",
      "68  1     35.6 35.6\n",
      "69  1     26.8 26.8\n",
      "70  1     32.5 32.5\n",
      "72  1     19.6 19.6\n",
      "81  1     25.9 25.9\n"
     ]
    }
   ],
   "source": [
    "# iterate over rows with iterrows()\n",
    "mydict = dict()\n",
    "X = list()\n",
    "Y = list()\n",
    "\n",
    "#Create dictionaries to hold the counts and sums of BMI by age\n",
    "for index, row in pimas.iterrows():\n",
    "    \n",
    "    #don't add null values of BMI\n",
    "    if row['BMI'] > 0:\n",
    "        chk = mydict.get(int(row['Age']))\n",
    "        #See if the Age is already in the dictionary. The Key is age and the value is a tuple with the sum and a count\n",
    "        if chk:\n",
    "            #It is so just compute sums\n",
    "            mydict[int(row['Age'])] = (chk[0]+row['BMI'],chk[1]+1)\n",
    "        else:\n",
    "            #It is not so initialize that key\n",
    "            mydict[int(row['Age'])] = (row['BMI'],1)\n",
    "\n",
    "#Create lists for graphing based on the dictionaries\n",
    "for key in sorted(mydict.keys()):\n",
    "    (sums, counts) = mydict.get(key)\n",
    "    X.append(key)\n",
    "    Y.append(sums/counts)\n",
    "    \n",
    "    #print(key,counts,round(sums,1),round(sums/counts,1))\n",
    "    print(key,\"{: >2} {: >8}{: >5}\".format(counts,round(sums,1),round(sums/counts,1)))"
   ]
  },
  {
   "cell_type": "code",
   "execution_count": 5,
   "metadata": {},
   "outputs": [
    {
     "data": {
      "text/plain": [
       "[<matplotlib.lines.Line2D at 0x7f8c7d381100>]"
      ]
     },
     "execution_count": 5,
     "metadata": {},
     "output_type": "execute_result"
    },
    {
     "data": {
      "image/png": "[encoded data removed]",
      "text/plain": [
       "<Figure size 432x288 with 1 Axes>"
      ]
     },
     "metadata": {
      "needs_background": "light"
     },
     "output_type": "display_data"
    }
   ],
   "source": [
    "plt.plot(X,Y)"
   ]
  },
  {
   "cell_type": "code",
   "execution_count": null,
   "metadata": {},
   "outputs": [],
   "source": []
  },
  {
   "cell_type": "code",
   "execution_count": null,
   "metadata": {},
   "outputs": [],
   "source": []
  }
 ],
 "metadata": {
  "kernelspec": {
   "display_name": "Python 3",
   "language": "python",
   "name": "python3"
  },
  "language_info": {
   "codemirror_mode": {
    "name": "ipython",
    "version": 3
   },
   "file_extension": ".py",
   "mimetype": "text/x-python",
   "name": "python",
   "nbconvert_exporter": "python",
   "pygments_lexer": "ipython3",
   "version": "3.8.5"
  }
 },
 "nbformat": 4,
 "nbformat_minor": 4
}
