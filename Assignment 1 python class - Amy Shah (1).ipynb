{
 "cells": [
  {
   "cell_type": "markdown",
   "metadata": {},
   "source": [
    "\"\"\"Assignment 1\n",
    "\n",
    "1.\tWrite a program which assigns a value to a variable and prints it. Take another number as a user input and print out the sum of the two numbers. (2 points)\n",
    "2.\tWrite a program that takes two numbers as input and prints out the larger of the two numbers. (2 points)\n",
    "3.\tWrite a program that asks user to input how many hours they spend on their phone. If the input is 3 or lower, then print ‘Low Use’; if is higher than that but lower than 5, print  ‘Intermediate Use’ and if it is higher than 5, print ‘High Use’. Additionally, if the input is above 24, the program should ask the user to check his input. (3 points)\n",
    "\"\"\"\n"
   ]
  },
  {
   "cell_type": "code",
   "execution_count": 2,
   "metadata": {},
   "outputs": [
    {
     "name": "stdout",
     "output_type": "stream",
     "text": [
      "7\n"
     ]
    }
   ],
   "source": [
    "x = 7 \n",
    "print (x) "
   ]
  },
  {
   "cell_type": "code",
   "execution_count": 4,
   "metadata": {},
   "outputs": [
    {
     "name": "stdout",
     "output_type": "stream",
     "text": [
      "Tell me a number 2\n",
      "Tell me another number 4\n",
      "6\n"
     ]
    }
   ],
   "source": [
    "a = input (\"Tell me a number \")\n",
    "b = input (\"Tell me another number \")\n",
    "print (int(a) + int(b))"
   ]
  },
  {
   "cell_type": "code",
   "execution_count": 8,
   "metadata": {},
   "outputs": [
    {
     "name": "stdout",
     "output_type": "stream",
     "text": [
      "Tell me a number 7\n",
      "Tell me another number 3\n",
      "7\n"
     ]
    }
   ],
   "source": [
    "a = input (\"Tell me a number \")\n",
    "b = input (\"Tell me another number \")\n",
    "if a > b:\n",
    "    print(a)\n",
    "if b > a:\n",
    "    print(b)"
   ]
  },
  {
   "cell_type": "code",
   "execution_count": 6,
   "metadata": {},
   "outputs": [
    {
     "name": "stdout",
     "output_type": "stream",
     "text": [
      "How many hours do you spend on your phone? 24\n",
      "Check to make sure you inputted the correct number for you. \n"
     ]
    }
   ],
   "source": [
    "phone = input(\"How many hours do you spend on your phone? \")\n",
    "cphone = int(phone)\n",
    "if cphone <= 3:\n",
    "    print (\"Low use \")\n",
    "if cphone > 3 and cphone < 5:\n",
    "    print (\"Intermediate use \")\n",
    "if cphone >= 5 and cphone > 24:\n",
    "    print (\"High use \")\n",
    "if cphone >= 24:\n",
    "    print (\"Check to make sure you inputted the correct number for you. \")"
   ]
  }
 ],
 "metadata": {
  "kernelspec": {
   "display_name": "Python 3",
   "language": "python",
   "name": "python3"
  },
  "language_info": {
   "codemirror_mode": {
    "name": "ipython",
    "version": 3
   },
   "file_extension": ".py",
   "mimetype": "text/x-python",
   "name": "python",
   "nbconvert_exporter": "python",
   "pygments_lexer": "ipython3",
   "version": "3.8.5"
  }
 },
 "nbformat": 4,
 "nbformat_minor": 4
}
